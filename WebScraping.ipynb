{
 "cells": [
  {
   "cell_type": "code",
   "execution_count": 141,
   "id": "5318db8e",
   "metadata": {},
   "outputs": [],
   "source": [
    "import requests\n",
    "from bs4 import BeautifulSoup\n",
    "from csv import writer\n",
    "from selenium import webdriver\n",
    "import pandas as pd\n",
    "import re \n",
    "import nltk"
   ]
  },
  {
   "cell_type": "markdown",
   "id": "e6e59305",
   "metadata": {},
   "source": [
    "### Peliculas"
   ]
  },
  {
   "cell_type": "code",
   "execution_count": 180,
   "id": "fa7a17d8",
   "metadata": {},
   "outputs": [],
   "source": [
    "wd= webdriver.Chrome(executable_path=r\"C:\\dchrome\\chromedriver.exe\")"
   ]
  },
  {
   "cell_type": "code",
   "execution_count": 181,
   "id": "c76bd0da",
   "metadata": {},
   "outputs": [],
   "source": [
    "base_url =\"https://www.starz.com/ar/es/browse/if-you-like/el-sorprendente-hombre-ara%C3%B1a-2-la-amenaza-de-electro/50064\""
   ]
  },
  {
   "cell_type": "code",
   "execution_count": 182,
   "id": "32ec01ec",
   "metadata": {},
   "outputs": [],
   "source": [
    "wd.get(base_url)"
   ]
  },
  {
   "cell_type": "code",
   "execution_count": 183,
   "id": "0d713a2e",
   "metadata": {},
   "outputs": [],
   "source": [
    "movies = BeautifulSoup(wd.page_source)\n"
   ]
  },
  {
   "cell_type": "code",
   "execution_count": 184,
   "id": "eac2f4be",
   "metadata": {
    "collapsed": true,
    "jupyter": {
     "outputs_hidden": true
    },
    "tags": []
   },
   "outputs": [
    {
     "data": {
      "text/plain": [
       "[<a _ngcontent-wtm-c112=\"\" class=\"detail-container\" href=\"/ar/es/movies/horizonte-profundo-62067\"><div _ngcontent-wtm-c112=\"\" class=\"slide-title\">Horizonte profundo</div><!-- --><div _ngcontent-wtm-c112=\"\" class=\"slide-detail\">SAM13 | 2016 | ACCIÓN, DRAMA</div><!-- --></a>,\n",
       " <a _ngcontent-wtm-c112=\"\" class=\"detail-container\" href=\"/ar/es/movies/al-borde-del-abismo-49297\"><div _ngcontent-wtm-c112=\"\" class=\"slide-title\">Al borde del abismo</div><!-- --><div _ngcontent-wtm-c112=\"\" class=\"slide-detail\">SAM13 | 2012 | ACCIÓN, CRIMEN</div><!-- --></a>,\n",
       " <a _ngcontent-wtm-c112=\"\" class=\"detail-container\" href=\"/ar/es/series/houdini/45824\"><div _ngcontent-wtm-c112=\"\" class=\"slide-title\">Houdini</div><!-- --><div _ngcontent-wtm-c112=\"\" class=\"slide-detail\">SAM13 | 1 TEMPORADA | DRAMA, HISTÓRICA</div><!-- --></a>,\n",
       " <a _ngcontent-wtm-c112=\"\" class=\"detail-container\" href=\"/ar/es/movies/crep%C3%BAsculo-la-saga-luna-nueva-50238\"><div _ngcontent-wtm-c112=\"\" class=\"slide-title\">Crepúsculo la saga: Luna Nueva</div><!-- --><div _ngcontent-wtm-c112=\"\" class=\"slide-detail\">SAM13 | 2009 | DE AVENTURAS, DRAMA</div><!-- --></a>,\n",
       " <a _ngcontent-wtm-c112=\"\" class=\"detail-container\" href=\"/ar/es/movies/sin-escalas-51823\"><div _ngcontent-wtm-c112=\"\" class=\"slide-title\">Sin escalas</div><!-- --><div _ngcontent-wtm-c112=\"\" class=\"slide-detail\">SAM13 | 2014 | ACCIÓN</div><!-- --></a>,\n",
       " <a _ngcontent-wtm-c112=\"\" class=\"detail-container\" href=\"/ar/es/movies/los-juegos-del-hambre-sinsajo-el-final-50756\"><div _ngcontent-wtm-c112=\"\" class=\"slide-title\">Los juegos del hambre: Sinsajo - El final</div><!-- --><div _ngcontent-wtm-c112=\"\" class=\"slide-detail\">SAM13 | 2015 | ACCIÓN, CIENCIA FICCIÓN</div><!-- --></a>,\n",
       " <a _ngcontent-wtm-c112=\"\" class=\"detail-container\" href=\"/ar/es/movies/ladrones-60725\"><div _ngcontent-wtm-c112=\"\" class=\"slide-title\">Ladrones</div><!-- --><div _ngcontent-wtm-c112=\"\" class=\"slide-detail\">SAM13 | 2015 | ACCIÓN, COMEDIA</div><!-- --></a>,\n",
       " <a _ngcontent-wtm-c112=\"\" class=\"detail-container\" href=\"/ar/es/movies/red-retirados-extremadamente-duros-50355\"><div _ngcontent-wtm-c112=\"\" class=\"slide-title\">RED: Retirados Extremadamente Duros</div><!-- --><div _ngcontent-wtm-c112=\"\" class=\"slide-detail\">SAM13 | 2010 | ACCIÓN, COMEDIA</div><!-- --></a>,\n",
       " <a _ngcontent-wtm-c112=\"\" class=\"detail-container\" href=\"/ar/es/movies/crep%C3%BAsculo-la-saga-amanecer-%E2%80%93-parte-2-50834\"><div _ngcontent-wtm-c112=\"\" class=\"slide-title\">Crepúsculo la saga: Amanecer – Parte 2</div><!-- --><div _ngcontent-wtm-c112=\"\" class=\"slide-detail\">SAM13 | 2012 | DE AVENTURAS, DRAMA</div><!-- --></a>,\n",
       " <a _ngcontent-wtm-c112=\"\" class=\"detail-container\" href=\"/ar/es/movies/dura-verdad-50508\"><div _ngcontent-wtm-c112=\"\" class=\"slide-title\">Dura verdad</div><!-- --><div _ngcontent-wtm-c112=\"\" class=\"slide-detail\">SAM13 | 2012 | ACCIÓN, MISTERIO/SUSPENSO</div><!-- --></a>,\n",
       " <a _ngcontent-wtm-c112=\"\" class=\"detail-container\" href=\"/ar/es/movies/power-rangers-61798\"><div _ngcontent-wtm-c112=\"\" class=\"slide-title\">Power Rangers</div><!-- --><div _ngcontent-wtm-c112=\"\" class=\"slide-detail\">SAM13 | 2017 | ACCIÓN, DE AVENTURAS</div><!-- --></a>,\n",
       " <a _ngcontent-wtm-c112=\"\" class=\"detail-container\" href=\"/ar/es/movies/crep%C3%BAsculo-la-saga-amanecer-parte-1-50666\"><div _ngcontent-wtm-c112=\"\" class=\"slide-title\">Crepúsculo La Saga: Amanecer - Parte 1</div><!-- --><div _ngcontent-wtm-c112=\"\" class=\"slide-detail\">SAM13 | 2011 | DE AVENTURAS, DRAMA</div><!-- --></a>,\n",
       " <a _ngcontent-wtm-c112=\"\" class=\"detail-container\" href=\"/ar/es/movies/repugnante-52012\"><div _ngcontent-wtm-c112=\"\" class=\"slide-title\">Repugnante</div><!-- --><div _ngcontent-wtm-c112=\"\" class=\"slide-detail\">SAM13 | 2014 | DRAMA</div><!-- --></a>,\n",
       " <a _ngcontent-wtm-c112=\"\" class=\"detail-container\" href=\"/ar/es/movies/campamento-del-terror-60727\"><div _ngcontent-wtm-c112=\"\" class=\"slide-title\">Campamento del terror</div><!-- --><div _ngcontent-wtm-c112=\"\" class=\"slide-detail\">SAM13 | 2015 | DE TERROR</div><!-- --></a>,\n",
       " <a _ngcontent-wtm-c112=\"\" class=\"detail-container\" href=\"/ar/es/movies/12-horas-51692\"><div _ngcontent-wtm-c112=\"\" class=\"slide-title\">12 Horas</div><!-- --><div _ngcontent-wtm-c112=\"\" class=\"slide-detail\">SAM13 | 2012 | DRAMA, THRILLER PSICOLÓGICO</div><!-- --></a>,\n",
       " <a _ngcontent-wtm-c112=\"\" class=\"detail-container\" href=\"/ar/es/movies/el-contratista-60686\"><div _ngcontent-wtm-c112=\"\" class=\"slide-title\">El contratista</div><!-- --><div _ngcontent-wtm-c112=\"\" class=\"slide-detail\">SAM13 | 2013 | SUSPENSO</div><!-- --></a>,\n",
       " <a _ngcontent-wtm-c112=\"\" class=\"detail-container\" href=\"/ar/es/movies/jumanji-en-la-selva-38790\"><div _ngcontent-wtm-c112=\"\" class=\"slide-title\">Jumanji: En la selva</div><!-- --><div _ngcontent-wtm-c112=\"\" class=\"slide-detail\">SAM13 | 2017 | COMEDIA, FAMILIAR</div><!-- --></a>,\n",
       " <a _ngcontent-wtm-c112=\"\" class=\"detail-container\" href=\"/ar/es/movies/triple-x-49275\"><div _ngcontent-wtm-c112=\"\" class=\"slide-title\">Triple X</div><!-- --><div _ngcontent-wtm-c112=\"\" class=\"slide-detail\">SAM13 | 2002 | ACCIÓN</div><!-- --></a>,\n",
       " <a _ngcontent-wtm-c112=\"\" class=\"detail-container\" href=\"/ar/es/movies/crep%C3%BAsculo-la-saga-eclipse-50241\"><div _ngcontent-wtm-c112=\"\" class=\"slide-title\">Crepúsculo, la saga: Eclipse</div><!-- --><div _ngcontent-wtm-c112=\"\" class=\"slide-detail\">SAM13 | 2010 | DE AVENTURAS, DRAMA</div><!-- --></a>,\n",
       " <a _ngcontent-wtm-c112=\"\" class=\"detail-container\" href=\"/ar/es/movies/el-legado-62756\"><div _ngcontent-wtm-c112=\"\" class=\"slide-title\">El legado</div><!-- --><div _ngcontent-wtm-c112=\"\" class=\"slide-detail\">SAM13 | 2018 | ACCIÓN, CIENCIA FICCIÓN</div><!-- --></a>,\n",
       " <a _ngcontent-wtm-c112=\"\" class=\"detail-container\" href=\"/ar/es/series/reign/63571\"><div _ngcontent-wtm-c112=\"\" class=\"slide-title\">Reign</div><!-- --><div _ngcontent-wtm-c112=\"\" class=\"slide-detail\">SAM13 | 4 TEMPORADAS | DRAMA</div><!-- --></a>,\n",
       " <a _ngcontent-wtm-c112=\"\" class=\"detail-container\" href=\"/ar/es/movies/el-traidor-30168\"><div _ngcontent-wtm-c112=\"\" class=\"slide-title\">El traidor</div><!-- --><div _ngcontent-wtm-c112=\"\" class=\"slide-detail\">SAM13 | 2008 | ACCIÓN, CRIMEN</div><!-- --></a>,\n",
       " <a _ngcontent-wtm-c112=\"\" class=\"detail-container\" href=\"/ar/es/movies/si-no-despierto-51601\"><div _ngcontent-wtm-c112=\"\" class=\"slide-title\">Si no despierto</div><!-- --><div _ngcontent-wtm-c112=\"\" class=\"slide-detail\">SAM13 | 2017 | DRAMA</div><!-- --></a>,\n",
       " <a _ngcontent-wtm-c112=\"\" class=\"detail-container\" href=\"/ar/es/movies/bu-2-una-noche-de-brujas-de-madea-de-tyler-perry-51713\"><div _ngcontent-wtm-c112=\"\" class=\"slide-title\">¡Bu! 2 Una noche de brujas de Madea, de Tyler Perry</div><!-- --><div _ngcontent-wtm-c112=\"\" class=\"slide-detail\">SAM13 | 2017 | COMEDIA, DRAMA</div><!-- --></a>,\n",
       " <a _ngcontent-wtm-c112=\"\" class=\"detail-container\" href=\"/ar/es/movies/2012-37333\"><div _ngcontent-wtm-c112=\"\" class=\"slide-title\">2012</div><!-- --><div _ngcontent-wtm-c112=\"\" class=\"slide-detail\">SAM13 | 2009 | ACCIÓN, DRAMA</div><!-- --></a>,\n",
       " <a _ngcontent-wtm-c112=\"\" class=\"detail-container\" href=\"/ar/es/movies/elizabeth-la-edad-de-oro-65816\"><div _ngcontent-wtm-c112=\"\" class=\"slide-title\">Elizabeth: La edad de oro</div><!-- --><div _ngcontent-wtm-c112=\"\" class=\"slide-detail\">SAM13 | 2007 | ACCIÓN, DE AVENTURAS</div><!-- --></a>,\n",
       " <a _ngcontent-wtm-c112=\"\" class=\"detail-container\" href=\"/ar/es/movies/el-karate-kid-6462\"><div _ngcontent-wtm-c112=\"\" class=\"slide-title\">El Karate Kid</div><!-- --><div _ngcontent-wtm-c112=\"\" class=\"slide-detail\">ATP | 1984 | ACCIÓN, DE AVENTURAS</div><!-- --></a>,\n",
       " <a _ngcontent-wtm-c112=\"\" class=\"detail-container\" href=\"/ar/es/movies/son-como-ni%C3%B1os-2-50698\"><div _ngcontent-wtm-c112=\"\" class=\"slide-title\">Son como niños 2</div><!-- --><div _ngcontent-wtm-c112=\"\" class=\"slide-detail\">SAM13 | 2013 | SECUELA, COMEDIA</div><!-- --></a>,\n",
       " <a _ngcontent-wtm-c112=\"\" class=\"detail-container\" href=\"/ar/es/movies/make-your-move-63444\"><div _ngcontent-wtm-c112=\"\" class=\"slide-title\">Make your move</div><!-- --><div _ngcontent-wtm-c112=\"\" class=\"slide-detail\">SAM13 | 2014 | DRAMA, MUSICAL</div><!-- --></a>,\n",
       " <a _ngcontent-wtm-c112=\"\" class=\"detail-container\" href=\"/ar/es/series/the-royals/45706\"><div _ngcontent-wtm-c112=\"\" class=\"slide-title\">The Royals</div><!-- --><div _ngcontent-wtm-c112=\"\" class=\"slide-detail\">SAM13 | 4 TEMPORADAS | DRAMA</div><!-- --></a>,\n",
       " <a _ngcontent-wtm-c112=\"\" class=\"detail-container\" href=\"/ar/es/movies/cuenta-regresiva-49386\"><div _ngcontent-wtm-c112=\"\" class=\"slide-title\">Cuenta regresiva</div><!-- --><div _ngcontent-wtm-c112=\"\" class=\"slide-detail\">SAM13 | 2009 | ACCIÓN, DRAMA</div><!-- --></a>,\n",
       " <a _ngcontent-wtm-c112=\"\" class=\"detail-container\" href=\"/ar/es/series/rosemarys-baby/45825\"><div _ngcontent-wtm-c112=\"\" class=\"slide-title\">Rosemary's Baby</div><!-- --><div _ngcontent-wtm-c112=\"\" class=\"slide-detail\">SAM13 | 1 TEMPORADA | SUSPENSO</div><!-- --></a>,\n",
       " <a _ngcontent-wtm-c112=\"\" class=\"detail-container\" href=\"/ar/es/movies/zombie-50752\"><div _ngcontent-wtm-c112=\"\" class=\"slide-title\">Zombie</div><!-- --><div _ngcontent-wtm-c112=\"\" class=\"slide-detail\">SAM13 | 2013 | COMEDIA, DE TERROR</div><!-- --></a>,\n",
       " <a _ngcontent-wtm-c112=\"\" class=\"detail-container\" href=\"/ar/es/movies/the-dresser-26226\"><div _ngcontent-wtm-c112=\"\" class=\"slide-title\">The Dresser</div><!-- --><div _ngcontent-wtm-c112=\"\" class=\"slide-detail\">SAM13 | 2015 | DRAMA, LITERARIA</div><!-- --></a>,\n",
       " <a _ngcontent-wtm-c112=\"\" class=\"detail-container\" href=\"/ar/es/movies/de-tyler-perry-por-qu%C3%A9-me-cas%C3%A9-tambi%C3%A9n-50512\"><div _ngcontent-wtm-c112=\"\" class=\"slide-title\">De Tyler Perry: ¿Por qué me casé también?</div><!-- --><div _ngcontent-wtm-c112=\"\" class=\"slide-detail\">SAM13 | 2010 | COMEDIA, DRAMA</div><!-- --></a>,\n",
       " <a _ngcontent-wtm-c112=\"\" class=\"detail-container\" href=\"/ar/es/movies/a-conseguir-trabajo-30233\"><div _ngcontent-wtm-c112=\"\" class=\"slide-title\">A conseguir trabajo</div><!-- --><div _ngcontent-wtm-c112=\"\" class=\"slide-detail\">SAM13 | 2016 | COMEDIA, COMEDIA ROMÁNTICA</div><!-- --></a>,\n",
       " <a _ngcontent-wtm-c112=\"\" class=\"detail-container\" href=\"/ar/es/movies/las-ventajas-de-ser-invisible-51827\"><div _ngcontent-wtm-c112=\"\" class=\"slide-title\">Las ventajas de ser invisible</div><!-- --><div _ngcontent-wtm-c112=\"\" class=\"slide-detail\">SAM13 | 2012 | DRAMA, ROMÁNTICA</div><!-- --></a>,\n",
       " <a _ngcontent-wtm-c112=\"\" class=\"detail-container\" href=\"/ar/es/movies/la-maldici%C3%B3n-de-blackwood-62692\"><div _ngcontent-wtm-c112=\"\" class=\"slide-title\">La maldición de Blackwood</div><!-- --><div _ngcontent-wtm-c112=\"\" class=\"slide-detail\">SAM13 | 2018 | DRAMA, FANTASÍA</div><!-- --></a>,\n",
       " <a _ngcontent-wtm-c112=\"\" class=\"detail-container\" href=\"/ar/es/movies/ouija-el-origen-del-mal-65840\"><div _ngcontent-wtm-c112=\"\" class=\"slide-title\">Ouija: El origen del mal</div><!-- --><div _ngcontent-wtm-c112=\"\" class=\"slide-detail\">SAM13 | 2016 | DE TERROR</div><!-- --></a>,\n",
       " <a _ngcontent-wtm-c112=\"\" class=\"detail-container\" href=\"/ar/es/movies/rendirse-jam%C3%A1s-30857\"><div _ngcontent-wtm-c112=\"\" class=\"slide-title\">Rendirse jamás</div><!-- --><div _ngcontent-wtm-c112=\"\" class=\"slide-detail\">SAM13 | 2008 | ACCIÓN, CRIMEN</div><!-- --></a>,\n",
       " <a _ngcontent-wtm-c112=\"\" class=\"detail-container\" href=\"/ar/es/series/the-night-manager/61267\"><div _ngcontent-wtm-c112=\"\" class=\"slide-title\">The Night Manager</div><!-- --><div _ngcontent-wtm-c112=\"\" class=\"slide-detail\">SAM13 | 1 TEMPORADA | CRIMEN, DRAMA</div><!-- --></a>,\n",
       " <a _ngcontent-wtm-c112=\"\" class=\"detail-container\" href=\"/ar/es/series/los-miserables/46038\"><div _ngcontent-wtm-c112=\"\" class=\"slide-title\">Los Miserables</div><!-- --><div _ngcontent-wtm-c112=\"\" class=\"slide-detail\">SAM13 | 1 TEMPORADA | DRAMA</div><!-- --></a>,\n",
       " <a _ngcontent-wtm-c112=\"\" class=\"detail-container\" href=\"/ar/es/movies/la-la-land-una-historia-de-amor-62069\"><div _ngcontent-wtm-c112=\"\" class=\"slide-title\">La La Land: Una historia de amor</div><!-- --><div _ngcontent-wtm-c112=\"\" class=\"slide-detail\">SAM13 | 2016 | COMEDIA, DRAMA</div><!-- --></a>,\n",
       " <a _ngcontent-wtm-c112=\"\" class=\"detail-container\" href=\"/ar/es/movies/se-dice-de-mi-39601\"><div _ngcontent-wtm-c112=\"\" class=\"slide-title\">Se Dice De Mi</div><!-- --><div _ngcontent-wtm-c112=\"\" class=\"slide-detail\">SAM13 | 2010 | COMEDIA</div><!-- --></a>,\n",
       " <a _ngcontent-wtm-c112=\"\" class=\"detail-container\" href=\"/ar/es/movies/de-tyler-perry-el-club-de-las-madres-solteras-51328\"><div _ngcontent-wtm-c112=\"\" class=\"slide-title\">De Tyler Perry: El club de las madres solteras</div><!-- --><div _ngcontent-wtm-c112=\"\" class=\"slide-detail\">SAM13 | 2014 | COMEDIA, DRAMA</div><!-- --></a>,\n",
       " <a _ngcontent-wtm-c112=\"\" class=\"detail-container\" href=\"/ar/es/movies/escondida-51619\"><div _ngcontent-wtm-c112=\"\" class=\"slide-title\">Escondida</div><!-- --><div _ngcontent-wtm-c112=\"\" class=\"slide-detail\">SAM13 | 2011 | DRAMA, MISTERIO/SUSPENSO</div><!-- --></a>,\n",
       " <a _ngcontent-wtm-c112=\"\" class=\"detail-container\" href=\"/ar/es/movies/decisi%C3%B3n-final-51070\"><div _ngcontent-wtm-c112=\"\" class=\"slide-title\">Decisión final</div><!-- --><div _ngcontent-wtm-c112=\"\" class=\"slide-detail\">SAM13 | 2014 | DRAMA, DEPORTES</div><!-- --></a>,\n",
       " <a _ngcontent-wtm-c112=\"\" class=\"detail-container\" href=\"/ar/es/series/the-dresden-files/45616\"><div _ngcontent-wtm-c112=\"\" class=\"slide-title\">The Dresden Files</div><!-- --><div _ngcontent-wtm-c112=\"\" class=\"slide-detail\">SAM13 | 1 TEMPORADA | ACCIÓN, CRIMEN</div><!-- --></a>,\n",
       " <a _ngcontent-wtm-c112=\"\" class=\"detail-container\" href=\"/ar/es/movies/cartas-a-julieta-50199\"><div _ngcontent-wtm-c112=\"\" class=\"slide-title\">Cartas a Julieta</div><!-- --><div _ngcontent-wtm-c112=\"\" class=\"slide-detail\">ATP | 2010 | COMEDIA, DRAMA</div><!-- --></a>,\n",
       " <a _ngcontent-wtm-c112=\"\" class=\"detail-container\" href=\"/ar/es/series/chasing-life/45516\"><div _ngcontent-wtm-c112=\"\" class=\"slide-title\">Chasing Life</div><!-- --><div _ngcontent-wtm-c112=\"\" class=\"slide-detail\">SAM13 | 2 TEMPORADAS | DRAMA</div><!-- --></a>]"
      ]
     },
     "execution_count": 184,
     "metadata": {},
     "output_type": "execute_result"
    }
   ],
   "source": [
    "detalles_movie =movies.find_all(\"a\", class_=\"detail-container\")\n",
    "detalles_movie"
   ]
  },
  {
   "cell_type": "code",
   "execution_count": 195,
   "id": "c1713fcb",
   "metadata": {},
   "outputs": [],
   "source": [
    "movies_detalles = list()"
   ]
  },
  {
   "cell_type": "code",
   "execution_count": 196,
   "id": "bb4c4972",
   "metadata": {},
   "outputs": [],
   "source": [
    "for movies_detalle in detalles_movie:\n",
    "    movies_detalles.append(movies_detalle.text)"
   ]
  },
  {
   "cell_type": "code",
   "execution_count": 197,
   "id": "d9e3be6a",
   "metadata": {
    "collapsed": true,
    "jupyter": {
     "outputs_hidden": true
    },
    "tags": []
   },
   "outputs": [
    {
     "data": {
      "text/plain": [
       "['Horizonte profundoSAM13 | 2016 | ACCIÓN, DRAMA',\n",
       " 'Al borde del abismoSAM13 | 2012 | ACCIÓN, CRIMEN',\n",
       " 'HoudiniSAM13 | 1 TEMPORADA | DRAMA, HISTÓRICA',\n",
       " 'Crepúsculo la saga: Luna NuevaSAM13 | 2009 | DE AVENTURAS, DRAMA',\n",
       " 'Sin escalasSAM13 | 2014 | ACCIÓN',\n",
       " 'Los juegos del hambre: Sinsajo - El finalSAM13 | 2015 | ACCIÓN, CIENCIA FICCIÓN',\n",
       " 'LadronesSAM13 | 2015 | ACCIÓN, COMEDIA',\n",
       " 'RED: Retirados Extremadamente DurosSAM13 | 2010 | ACCIÓN, COMEDIA',\n",
       " 'Crepúsculo la saga: Amanecer – Parte 2SAM13 | 2012 | DE AVENTURAS, DRAMA',\n",
       " 'Dura verdadSAM13 | 2012 | ACCIÓN, MISTERIO/SUSPENSO',\n",
       " 'Power RangersSAM13 | 2017 | ACCIÓN, DE AVENTURAS',\n",
       " 'Crepúsculo La Saga: Amanecer - Parte 1SAM13 | 2011 | DE AVENTURAS, DRAMA',\n",
       " 'RepugnanteSAM13 | 2014 | DRAMA',\n",
       " 'Campamento del terrorSAM13 | 2015 | DE TERROR',\n",
       " '12 HorasSAM13 | 2012 | DRAMA, THRILLER PSICOLÓGICO',\n",
       " 'El contratistaSAM13 | 2013 | SUSPENSO',\n",
       " 'Jumanji: En la selvaSAM13 | 2017 | COMEDIA, FAMILIAR',\n",
       " 'Triple XSAM13 | 2002 | ACCIÓN',\n",
       " 'Crepúsculo, la saga: EclipseSAM13 | 2010 | DE AVENTURAS, DRAMA',\n",
       " 'El legadoSAM13 | 2018 | ACCIÓN, CIENCIA FICCIÓN',\n",
       " 'ReignSAM13 | 4 TEMPORADAS | DRAMA',\n",
       " 'El traidorSAM13 | 2008 | ACCIÓN, CRIMEN',\n",
       " 'Si no despiertoSAM13 | 2017 | DRAMA',\n",
       " '¡Bu! 2 Una noche de brujas de Madea, de Tyler PerrySAM13 | 2017 | COMEDIA, DRAMA',\n",
       " '2012SAM13 | 2009 | ACCIÓN, DRAMA',\n",
       " 'Elizabeth: La edad de oroSAM13 | 2007 | ACCIÓN, DE AVENTURAS',\n",
       " 'El Karate KidATP | 1984 | ACCIÓN, DE AVENTURAS',\n",
       " 'Son como niños 2SAM13 | 2013 | SECUELA, COMEDIA',\n",
       " 'Make your moveSAM13 | 2014 | DRAMA, MUSICAL',\n",
       " 'The RoyalsSAM13 | 4 TEMPORADAS | DRAMA',\n",
       " 'Cuenta regresivaSAM13 | 2009 | ACCIÓN, DRAMA',\n",
       " \"Rosemary's BabySAM13 | 1 TEMPORADA | SUSPENSO\",\n",
       " 'ZombieSAM13 | 2013 | COMEDIA, DE TERROR',\n",
       " 'The DresserSAM13 | 2015 | DRAMA, LITERARIA',\n",
       " 'De Tyler Perry: ¿Por qué me casé también?SAM13 | 2010 | COMEDIA, DRAMA',\n",
       " 'A conseguir trabajoSAM13 | 2016 | COMEDIA, COMEDIA ROMÁNTICA',\n",
       " 'Las ventajas de ser invisibleSAM13 | 2012 | DRAMA, ROMÁNTICA',\n",
       " 'La maldición de BlackwoodSAM13 | 2018 | DRAMA, FANTASÍA',\n",
       " 'Ouija: El origen del malSAM13 | 2016 | DE TERROR',\n",
       " 'Rendirse jamásSAM13 | 2008 | ACCIÓN, CRIMEN',\n",
       " 'The Night ManagerSAM13 | 1 TEMPORADA | CRIMEN, DRAMA',\n",
       " 'Los MiserablesSAM13 | 1 TEMPORADA | DRAMA',\n",
       " 'La La Land: Una historia de amorSAM13 | 2016 | COMEDIA, DRAMA',\n",
       " 'Se Dice De MiSAM13 | 2010 | COMEDIA',\n",
       " 'De Tyler Perry: El club de las madres solterasSAM13 | 2014 | COMEDIA, DRAMA',\n",
       " 'EscondidaSAM13 | 2011 | DRAMA, MISTERIO/SUSPENSO',\n",
       " 'Decisión finalSAM13 | 2014 | DRAMA, DEPORTES',\n",
       " 'The Dresden FilesSAM13 | 1 TEMPORADA | ACCIÓN, CRIMEN',\n",
       " 'Cartas a JulietaATP | 2010 | COMEDIA, DRAMA',\n",
       " 'Chasing LifeSAM13 | 2 TEMPORADAS | DRAMA']"
      ]
     },
     "execution_count": 197,
     "metadata": {},
     "output_type": "execute_result"
    }
   ],
   "source": [
    "movies_detalles"
   ]
  },
  {
   "cell_type": "code",
   "execution_count": 199,
   "id": "38ceaf23",
   "metadata": {
    "collapsed": true,
    "jupyter": {
     "outputs_hidden": true
    },
    "tags": []
   },
   "outputs": [
    {
     "name": "stdout",
     "output_type": "stream",
     "text": [
      "                                                    0\n",
      "0      Horizonte profundoSAM13 | 2016 | ACCIÓN, DRAMA\n",
      "1    Al borde del abismoSAM13 | 2012 | ACCIÓN, CRIMEN\n",
      "2       HoudiniSAM13 | 1 TEMPORADA | DRAMA, HISTÓRICA\n",
      "3   Crepúsculo la saga: Luna NuevaSAM13 | 2009 | D...\n",
      "4                    Sin escalasSAM13 | 2014 | ACCIÓN\n",
      "5   Los juegos del hambre: Sinsajo - El finalSAM13...\n",
      "6              LadronesSAM13 | 2015 | ACCIÓN, COMEDIA\n",
      "7   RED: Retirados Extremadamente DurosSAM13 | 201...\n",
      "8   Crepúsculo la saga: Amanecer – Parte 2SAM13 | ...\n",
      "9   Dura verdadSAM13 | 2012 | ACCIÓN, MISTERIO/SUS...\n",
      "10   Power RangersSAM13 | 2017 | ACCIÓN, DE AVENTURAS\n",
      "11  Crepúsculo La Saga: Amanecer - Parte 1SAM13 | ...\n",
      "12                     RepugnanteSAM13 | 2014 | DRAMA\n",
      "13      Campamento del terrorSAM13 | 2015 | DE TERROR\n",
      "14  12 HorasSAM13 | 2012 | DRAMA, THRILLER PSICOLÓ...\n",
      "15              El contratistaSAM13 | 2013 | SUSPENSO\n",
      "16  Jumanji: En la selvaSAM13 | 2017 | COMEDIA, FA...\n",
      "17                      Triple XSAM13 | 2002 | ACCIÓN\n",
      "18  Crepúsculo, la saga: EclipseSAM13 | 2010 | DE ...\n",
      "19    El legadoSAM13 | 2018 | ACCIÓN, CIENCIA FICCIÓN\n",
      "20                  ReignSAM13 | 4 TEMPORADAS | DRAMA\n",
      "21            El traidorSAM13 | 2008 | ACCIÓN, CRIMEN\n",
      "22                Si no despiertoSAM13 | 2017 | DRAMA\n",
      "23  ¡Bu! 2 Una noche de brujas de Madea, de Tyler ...\n",
      "24                   2012SAM13 | 2009 | ACCIÓN, DRAMA\n",
      "25  Elizabeth: La edad de oroSAM13 | 2007 | ACCIÓN...\n",
      "26     El Karate KidATP | 1984 | ACCIÓN, DE AVENTURAS\n",
      "27    Son como niños 2SAM13 | 2013 | SECUELA, COMEDIA\n",
      "28        Make your moveSAM13 | 2014 | DRAMA, MUSICAL\n",
      "29             The RoyalsSAM13 | 4 TEMPORADAS | DRAMA\n",
      "30       Cuenta regresivaSAM13 | 2009 | ACCIÓN, DRAMA\n",
      "31      Rosemary's BabySAM13 | 1 TEMPORADA | SUSPENSO\n",
      "32            ZombieSAM13 | 2013 | COMEDIA, DE TERROR\n",
      "33         The DresserSAM13 | 2015 | DRAMA, LITERARIA\n",
      "34  De Tyler Perry: ¿Por qué me casé también?SAM13...\n",
      "35  A conseguir trabajoSAM13 | 2016 | COMEDIA, COM...\n",
      "36  Las ventajas de ser invisibleSAM13 | 2012 | DR...\n",
      "37  La maldición de BlackwoodSAM13 | 2018 | DRAMA,...\n",
      "38   Ouija: El origen del malSAM13 | 2016 | DE TERROR\n",
      "39        Rendirse jamásSAM13 | 2008 | ACCIÓN, CRIMEN\n",
      "40  The Night ManagerSAM13 | 1 TEMPORADA | CRIMEN,...\n",
      "41          Los MiserablesSAM13 | 1 TEMPORADA | DRAMA\n",
      "42  La La Land: Una historia de amorSAM13 | 2016 |...\n",
      "43                Se Dice De MiSAM13 | 2010 | COMEDIA\n",
      "44  De Tyler Perry: El club de las madres solteras...\n",
      "45   EscondidaSAM13 | 2011 | DRAMA, MISTERIO/SUSPENSO\n",
      "46       Decisión finalSAM13 | 2014 | DRAMA, DEPORTES\n",
      "47  The Dresden FilesSAM13 | 1 TEMPORADA | ACCIÓN,...\n",
      "48        Cartas a JulietaATP | 2010 | COMEDIA, DRAMA\n",
      "49           Chasing LifeSAM13 | 2 TEMPORADAS | DRAMA\n"
     ]
    }
   ],
   "source": [
    "data_peliculas = pd.DataFrame(movies_detalles)\n",
    "print(data_peliculas)"
   ]
  },
  {
   "cell_type": "code",
   "execution_count": 203,
   "id": "aad03e81",
   "metadata": {
    "tags": []
   },
   "outputs": [],
   "source": [
    "data_peliculas.to_csv(\"Peliculas.csv\",index=False)"
   ]
  },
  {
   "cell_type": "markdown",
   "id": "eb179b13",
   "metadata": {},
   "source": [
    "### series"
   ]
  },
  {
   "cell_type": "code",
   "execution_count": 204,
   "id": "5e71a48e",
   "metadata": {},
   "outputs": [],
   "source": [
    "wd_series= webdriver.Chrome(executable_path=r\"C:\\dchrome\\chromedriver.exe\")\n",
    "url_series = \"https://www.starz.com/ar/es/browse/if-you-like/the-act/46154\""
   ]
  },
  {
   "cell_type": "code",
   "execution_count": 205,
   "id": "8e36ff54",
   "metadata": {},
   "outputs": [],
   "source": [
    "wd_series.get(url_series)"
   ]
  },
  {
   "cell_type": "code",
   "execution_count": 206,
   "id": "34b62460",
   "metadata": {},
   "outputs": [],
   "source": [
    "series = BeautifulSoup(wd_series.page_source)"
   ]
  },
  {
   "cell_type": "code",
   "execution_count": 207,
   "id": "4c68bd0b",
   "metadata": {
    "collapsed": true,
    "jupyter": {
     "outputs_hidden": true
    },
    "tags": []
   },
   "outputs": [
    {
     "data": {
      "text/plain": [
       "[<a _ngcontent-qsw-c112=\"\" class=\"detail-container\" href=\"/ar/es/series/castle-rock/45522\"><div _ngcontent-qsw-c112=\"\" class=\"slide-title\">Castle Rock</div><!-- --><div _ngcontent-qsw-c112=\"\" class=\"slide-detail\">SAM16 | 2 TEMPORADAS | DRAMA, FANTASÍA</div><!-- --></a>,\n",
       " <a _ngcontent-qsw-c112=\"\" class=\"detail-container\" href=\"/ar/es/series/the-attach%C3%A9/62262\"><div _ngcontent-qsw-c112=\"\" class=\"slide-title\">The Attaché</div><!-- --><div _ngcontent-qsw-c112=\"\" class=\"slide-detail\">SAM16 | 1 TEMPORADA | DRAMA</div><!-- --></a>,\n",
       " <a _ngcontent-qsw-c112=\"\" class=\"detail-container\" href=\"/ar/es/series/the-night-manager/61267\"><div _ngcontent-qsw-c112=\"\" class=\"slide-title\">The Night Manager</div><!-- --><div _ngcontent-qsw-c112=\"\" class=\"slide-detail\">SAM13 | 1 TEMPORADA | CRIMEN, DRAMA</div><!-- --></a>,\n",
       " <a _ngcontent-qsw-c112=\"\" class=\"detail-container\" href=\"/ar/es/series/gangs-of-london/60530\"><div _ngcontent-qsw-c112=\"\" class=\"slide-title\">Gangs of London</div><!-- --><div _ngcontent-qsw-c112=\"\" class=\"slide-detail\">SAM16 | 1 TEMPORADA | ACCIÓN, CRIMEN</div><!-- --></a>,\n",
       " <a _ngcontent-qsw-c112=\"\" class=\"detail-container\" href=\"/ar/es/series/motherfatherson/44758\"><div _ngcontent-qsw-c112=\"\" class=\"slide-title\">MotherFatherSon</div><!-- --><div _ngcontent-qsw-c112=\"\" class=\"slide-detail\">SAM16 | 1 TEMPORADA | DRAMA</div><!-- --></a>,\n",
       " <a _ngcontent-qsw-c112=\"\" class=\"detail-container\" href=\"/ar/es/series/confronting-a-serial-killer/59920\"><div _ngcontent-qsw-c112=\"\" class=\"slide-title\">Confronting a Serial Killer</div><!-- --><div _ngcontent-qsw-c112=\"\" class=\"slide-detail\">SAM16 | 1 TEMPORADA | DOCUMENTAL, DRAMA</div><!-- --></a>,\n",
       " <a _ngcontent-qsw-c112=\"\" class=\"detail-container\" href=\"/ar/es/series/the-white-princess/30887\"><div _ngcontent-qsw-c112=\"\" class=\"slide-title\">The White Princess</div><!-- --><div _ngcontent-qsw-c112=\"\" class=\"slide-detail\">SAM16 | 1 TEMPORADA | DRAMA, LITERARIA</div><!-- --></a>,\n",
       " <a _ngcontent-qsw-c112=\"\" class=\"detail-container\" href=\"/ar/es/movies/oscura-seducci%C3%B3n-60743\"><div _ngcontent-qsw-c112=\"\" class=\"slide-title\">Oscura seducción</div><!-- --><div _ngcontent-qsw-c112=\"\" class=\"slide-detail\">SAM16 | 2011 | ROMÁNTICA</div><!-- --></a>,\n",
       " <a _ngcontent-qsw-c112=\"\" class=\"detail-container\" href=\"/ar/es/series/blindspotting/62263\"><div _ngcontent-qsw-c112=\"\" class=\"slide-title\">Blindspotting</div><!-- --><div _ngcontent-qsw-c112=\"\" class=\"slide-detail\">SAM16 | 1 TEMPORADA | DRAMA</div><!-- --></a>,\n",
       " <a _ngcontent-qsw-c112=\"\" class=\"detail-container\" href=\"/ar/es/series/power/21220\"><div _ngcontent-qsw-c112=\"\" class=\"slide-title\">Power</div><!-- --><div _ngcontent-qsw-c112=\"\" class=\"slide-detail\">SAM16 | 6 TEMPORADAS | DRAMA</div><!-- --></a>,\n",
       " <a _ngcontent-qsw-c112=\"\" class=\"detail-container\" href=\"/ar/es/movies/12-horas-51692\"><div _ngcontent-qsw-c112=\"\" class=\"slide-title\">12 Horas</div><!-- --><div _ngcontent-qsw-c112=\"\" class=\"slide-detail\">SAM13 | 2012 | DRAMA, THRILLER PSICOLÓGICO</div><!-- --></a>,\n",
       " <a _ngcontent-qsw-c112=\"\" class=\"detail-container\" href=\"/ar/es/series/power-book-ii-ghost/58002\"><div _ngcontent-qsw-c112=\"\" class=\"slide-title\">Power Book II: Ghost</div><!-- --><div _ngcontent-qsw-c112=\"\" class=\"slide-detail\">SAM16 | 2 TEMPORADAS | CRIMEN, DRAMA</div><!-- --></a>,\n",
       " <a _ngcontent-qsw-c112=\"\" class=\"detail-container\" href=\"/ar/es/series/the-white-queen/18124\"><div _ngcontent-qsw-c112=\"\" class=\"slide-title\">The White Queen</div><!-- --><div _ngcontent-qsw-c112=\"\" class=\"slide-detail\">SAM16 | 1 TEMPORADA | DRAMA, LITERARIA</div><!-- --></a>,\n",
       " <a _ngcontent-qsw-c112=\"\" class=\"detail-container\" href=\"/ar/es/series/hightown/57463\"><div _ngcontent-qsw-c112=\"\" class=\"slide-title\">Hightown</div><!-- --><div _ngcontent-qsw-c112=\"\" class=\"slide-detail\">SAM16 | 2 TEMPORADAS | CRIMEN, DRAMA</div><!-- --></a>,\n",
       " <a _ngcontent-qsw-c112=\"\" class=\"detail-container\" href=\"/ar/es/movies/lo-que-pas%C3%B3-reci%C3%A9n-60739\"><div _ngcontent-qsw-c112=\"\" class=\"slide-title\">Lo que pasó recién</div><!-- --><div _ngcontent-qsw-c112=\"\" class=\"slide-detail\">SAM16 | 2008 | COMEDIA, DRAMA</div><!-- --></a>,\n",
       " <a _ngcontent-qsw-c112=\"\" class=\"detail-container\" href=\"/ar/es/series/power-book-iii-raising-kanan/58458\"><div _ngcontent-qsw-c112=\"\" class=\"slide-title\">Power Book III: Raising Kanan</div><!-- --><div _ngcontent-qsw-c112=\"\" class=\"slide-detail\">SAM16 | 1 TEMPORADA | CRIMEN, DRAMA</div><!-- --></a>,\n",
       " <a _ngcontent-qsw-c112=\"\" class=\"detail-container\" href=\"/ar/es/series/heels/60760\"><div _ngcontent-qsw-c112=\"\" class=\"slide-title\">Heels</div><!-- --><div _ngcontent-qsw-c112=\"\" class=\"slide-detail\">SAM16 | 1 TEMPORADA | DRAMA</div><!-- --></a>,\n",
       " <a _ngcontent-qsw-c112=\"\" class=\"detail-container\" href=\"/ar/es/series/the-borgias/61183\"><div _ngcontent-qsw-c112=\"\" class=\"slide-title\">The Borgias</div><!-- --><div _ngcontent-qsw-c112=\"\" class=\"slide-detail\">SAM16 | 3 TEMPORADAS | DRAMA</div><!-- --></a>,\n",
       " <a _ngcontent-qsw-c112=\"\" class=\"detail-container\" href=\"/ar/es/series/sr-mercedes/45919\"><div _ngcontent-qsw-c112=\"\" class=\"slide-title\">Sr. Mercedes</div><!-- --><div _ngcontent-qsw-c112=\"\" class=\"slide-detail\">SAM16 | 3 TEMPORADAS | CRIMEN, SUSPENSO</div><!-- --></a>,\n",
       " <a _ngcontent-qsw-c112=\"\" class=\"detail-container\" href=\"/ar/es/movies/horizonte-profundo-62067\"><div _ngcontent-qsw-c112=\"\" class=\"slide-title\">Horizonte profundo</div><!-- --><div _ngcontent-qsw-c112=\"\" class=\"slide-detail\">SAM13 | 2016 | ACCIÓN, DRAMA</div><!-- --></a>,\n",
       " <a _ngcontent-qsw-c112=\"\" class=\"detail-container\" href=\"/ar/es/series/sweetbitter/37699\"><div _ngcontent-qsw-c112=\"\" class=\"slide-title\">Sweetbitter</div><!-- --><div _ngcontent-qsw-c112=\"\" class=\"slide-detail\">SAM16 | 2 TEMPORADAS | DRAMA, LITERARIA</div><!-- --></a>,\n",
       " <a _ngcontent-qsw-c112=\"\" class=\"detail-container\" href=\"/ar/es/movies/john-wick-2-un-nuevo-d%C3%ADa-para-matar-61327\"><div _ngcontent-qsw-c112=\"\" class=\"slide-title\">John Wick 2: Un nuevo día para matar</div><!-- --><div _ngcontent-qsw-c112=\"\" class=\"slide-detail\">SAM16 | 2017 | ACCIÓN</div><!-- --></a>,\n",
       " <a _ngcontent-qsw-c112=\"\" class=\"detail-container\" href=\"/ar/es/movies/cartas-a-julieta-50199\"><div _ngcontent-qsw-c112=\"\" class=\"slide-title\">Cartas a Julieta</div><!-- --><div _ngcontent-qsw-c112=\"\" class=\"slide-detail\">ATP | 2010 | COMEDIA, DRAMA</div><!-- --></a>,\n",
       " <a _ngcontent-qsw-c112=\"\" class=\"detail-container\" href=\"/ar/es/series/run-the-world/58457\"><div _ngcontent-qsw-c112=\"\" class=\"slide-title\">Run the World</div><!-- --><div _ngcontent-qsw-c112=\"\" class=\"slide-detail\">SAM16 | 1 TEMPORADA | DRAMA</div><!-- --></a>,\n",
       " <a _ngcontent-qsw-c112=\"\" class=\"detail-container\" href=\"/ar/es/movies/m%C3%A1s-fuerte-que-el-destino-62674\"><div _ngcontent-qsw-c112=\"\" class=\"slide-title\">Más fuerte que el destino</div><!-- --><div _ngcontent-qsw-c112=\"\" class=\"slide-detail\">SAM16 | 2017 | DRAMA</div><!-- --></a>,\n",
       " <a _ngcontent-qsw-c112=\"\" class=\"detail-container\" href=\"/ar/es/series/p-valley/46156\"><div _ngcontent-qsw-c112=\"\" class=\"slide-title\">P-Valley</div><!-- --><div _ngcontent-qsw-c112=\"\" class=\"slide-detail\">SAM16 | 1 TEMPORADA | DRAMA</div><!-- --></a>,\n",
       " <a _ngcontent-qsw-c112=\"\" class=\"detail-container\" href=\"/ar/es/series/reign/63571\"><div _ngcontent-qsw-c112=\"\" class=\"slide-title\">Reign</div><!-- --><div _ngcontent-qsw-c112=\"\" class=\"slide-detail\">SAM13 | 4 TEMPORADAS | DRAMA</div><!-- --></a>,\n",
       " <a _ngcontent-qsw-c112=\"\" class=\"detail-container\" href=\"/ar/es/series/step-up/62777\"><div _ngcontent-qsw-c112=\"\" class=\"slide-title\">Step Up</div><!-- --><div _ngcontent-qsw-c112=\"\" class=\"slide-detail\">SAM13 | 2 TEMPORADAS | DRAMA, MÚSICA</div><!-- --></a>,\n",
       " <a _ngcontent-qsw-c112=\"\" class=\"detail-container\" href=\"/ar/es/series/malayerba/64882\"><div _ngcontent-qsw-c112=\"\" class=\"slide-title\">MalaYerba</div><!-- --><div _ngcontent-qsw-c112=\"\" class=\"slide-detail\">SAM16 | 1 TEMPORADA | DRAMA</div><!-- --></a>,\n",
       " <a _ngcontent-qsw-c112=\"\" class=\"detail-container\" href=\"/ar/es/movies/recu%C3%A9rdame-51833\"><div _ngcontent-qsw-c112=\"\" class=\"slide-title\">Recuérdame</div><!-- --><div _ngcontent-qsw-c112=\"\" class=\"slide-detail\">SAM16 | 2010 | DRAMA, ROMÁNTICA</div><!-- --></a>,\n",
       " <a _ngcontent-qsw-c112=\"\" class=\"detail-container\" href=\"/ar/es/movies/el-lado-oscuro-del-deseo-50862\"><div _ngcontent-qsw-c112=\"\" class=\"slide-title\">El lado oscuro del deseo</div><!-- --><div _ngcontent-qsw-c112=\"\" class=\"slide-detail\">SAM16 | 2015 | MISTERIO/SUSPENSO</div><!-- --></a>,\n",
       " <a _ngcontent-qsw-c112=\"\" class=\"detail-container\" href=\"/ar/es/series/dublin-murders/45426\"><div _ngcontent-qsw-c112=\"\" class=\"slide-title\">Dublin Murders</div><!-- --><div _ngcontent-qsw-c112=\"\" class=\"slide-detail\">SAM16 | 1 TEMPORADA | CRIMEN, DRAMA</div><!-- --></a>,\n",
       " <a _ngcontent-qsw-c112=\"\" class=\"detail-container\" href=\"/ar/es/series/the-name-of-the-rose/45429\"><div _ngcontent-qsw-c112=\"\" class=\"slide-title\">The Name of the Rose</div><!-- --><div _ngcontent-qsw-c112=\"\" class=\"slide-detail\">SAM16 | 1 TEMPORADA | DRAMA</div><!-- --></a>,\n",
       " <a _ngcontent-qsw-c112=\"\" class=\"detail-container\" href=\"/ar/es/movies/p%C3%A1nico-en-altamar-41569\"><div _ngcontent-qsw-c112=\"\" class=\"slide-title\">Pánico en altamar</div><!-- --><div _ngcontent-qsw-c112=\"\" class=\"slide-detail\">SAM16 | 2006 | DE AVENTURAS, DRAMA</div><!-- --></a>,\n",
       " <a _ngcontent-qsw-c112=\"\" class=\"detail-container\" href=\"/ar/es/series/los-miserables/46038\"><div _ngcontent-qsw-c112=\"\" class=\"slide-title\">Los Miserables</div><!-- --><div _ngcontent-qsw-c112=\"\" class=\"slide-detail\">SAM13 | 1 TEMPORADA | DRAMA</div><!-- --></a>,\n",
       " <a _ngcontent-qsw-c112=\"\" class=\"detail-container\" href=\"/ar/es/movies/de-tyler-perry-tentaci%C3%B3n-confesiones-de-una-consejera-matrimonial-51340\"><div _ngcontent-qsw-c112=\"\" class=\"slide-title\">De Tyler Perry Tentación: Confesiones de una consejera matrimonial</div><!-- --><div _ngcontent-qsw-c112=\"\" class=\"slide-detail\">SAM16 | 2013 | DRAMA, ROMÁNTICA</div><!-- --></a>,\n",
       " <a _ngcontent-qsw-c112=\"\" class=\"detail-container\" href=\"/ar/es/series/howards-end/37269\"><div _ngcontent-qsw-c112=\"\" class=\"slide-title\">Howards End</div><!-- --><div _ngcontent-qsw-c112=\"\" class=\"slide-detail\">SAM13 | 1 TEMPORADA | DRAMA, LITERARIA</div><!-- --></a>,\n",
       " <a _ngcontent-qsw-c112=\"\" class=\"detail-container\" href=\"/ar/es/movies/de-tyler-perry-por-qu%C3%A9-me-cas%C3%A9-tambi%C3%A9n-50512\"><div _ngcontent-qsw-c112=\"\" class=\"slide-title\">De Tyler Perry: ¿Por qué me casé también?</div><!-- --><div _ngcontent-qsw-c112=\"\" class=\"slide-detail\">SAM13 | 2010 | COMEDIA, DRAMA</div><!-- --></a>,\n",
       " <a _ngcontent-qsw-c112=\"\" class=\"detail-container\" href=\"/ar/es/series/baptiste/45713\"><div _ngcontent-qsw-c112=\"\" class=\"slide-title\">Baptiste</div><!-- --><div _ngcontent-qsw-c112=\"\" class=\"slide-detail\">SAM16 | 2 TEMPORADAS | DRAMA</div><!-- --></a>,\n",
       " <a _ngcontent-qsw-c112=\"\" class=\"detail-container\" href=\"/ar/es/series/bmf/62264\"><div _ngcontent-qsw-c112=\"\" class=\"slide-title\">BMF</div><!-- --><div _ngcontent-qsw-c112=\"\" class=\"slide-detail\">SAM16 | 1 TEMPORADA | DRAMA</div><!-- --></a>,\n",
       " <a _ngcontent-qsw-c112=\"\" class=\"detail-container\" href=\"/ar/es/series/penny-dreadful/61184\"><div _ngcontent-qsw-c112=\"\" class=\"slide-title\">Penny Dreadful</div><!-- --><div _ngcontent-qsw-c112=\"\" class=\"slide-detail\">SAM16 | 3 TEMPORADAS | DRAMA</div><!-- --></a>,\n",
       " <a _ngcontent-qsw-c112=\"\" class=\"detail-container\" href=\"/ar/es/series/vida/37707\"><div _ngcontent-qsw-c112=\"\" class=\"slide-title\">Vida</div><!-- --><div _ngcontent-qsw-c112=\"\" class=\"slide-detail\">SAM16 | 3 TEMPORADAS | COMEDIA, DRAMA</div><!-- --></a>,\n",
       " <a _ngcontent-qsw-c112=\"\" class=\"detail-container\" href=\"/ar/es/movies/dulce-venganza-2-25826\"><div _ngcontent-qsw-c112=\"\" class=\"slide-title\">Dulce venganza 2</div><!-- --><div _ngcontent-qsw-c112=\"\" class=\"slide-detail\">SAM16 | 2013 | DE TERROR</div><!-- --></a>,\n",
       " <a _ngcontent-qsw-c112=\"\" class=\"detail-container\" href=\"/ar/es/series/flesh-and-bone/24528\"><div _ngcontent-qsw-c112=\"\" class=\"slide-title\">Flesh And Bone</div><!-- --><div _ngcontent-qsw-c112=\"\" class=\"slide-detail\">SAM16 | 1 TEMPORADA | DANZA, DRAMA</div><!-- --></a>,\n",
       " <a _ngcontent-qsw-c112=\"\" class=\"detail-container\" href=\"/ar/es/movies/un-paso-adelante-24244\"><div _ngcontent-qsw-c112=\"\" class=\"slide-title\">Un paso adelante</div><!-- --><div _ngcontent-qsw-c112=\"\" class=\"slide-detail\">SAM13 | 2006 | CRIMEN, DRAMA</div><!-- --></a>,\n",
       " <a _ngcontent-qsw-c112=\"\" class=\"detail-container\" href=\"/ar/es/movies/pasi%C3%B3n-inocente-52225\"><div _ngcontent-qsw-c112=\"\" class=\"slide-title\">Pasión inocente</div><!-- --><div _ngcontent-qsw-c112=\"\" class=\"slide-detail\">SAM16 | 2014 | DRAMA, ROMÁNTICA</div><!-- --></a>,\n",
       " <a _ngcontent-qsw-c112=\"\" class=\"detail-container\" href=\"/ar/es/series/the-rook/44140\"><div _ngcontent-qsw-c112=\"\" class=\"slide-title\">The Rook</div><!-- --><div _ngcontent-qsw-c112=\"\" class=\"slide-detail\">SAM16 | 1 TEMPORADA | DRAMA, FANTASÍA</div><!-- --></a>,\n",
       " <a _ngcontent-qsw-c112=\"\" class=\"detail-container\" href=\"/ar/es/movies/cr%C3%ADmenes-ocultos-59236\"><div _ngcontent-qsw-c112=\"\" class=\"slide-title\">Crímenes ocultos</div><!-- --><div _ngcontent-qsw-c112=\"\" class=\"slide-detail\">SAM16 | 2015 | CRIMEN, DRAMA</div><!-- --></a>,\n",
       " <a _ngcontent-qsw-c112=\"\" class=\"detail-container\" href=\"/ar/es/series/no-mans-land/61940\"><div _ngcontent-qsw-c112=\"\" class=\"slide-title\">No Man's Land</div><!-- --><div _ngcontent-qsw-c112=\"\" class=\"slide-detail\">SAM16 | 1 TEMPORADA | DRAMA, GUERRA</div><!-- --></a>,\n",
       " <a _ngcontent-qsw-c112=\"\" class=\"detail-container\" href=\"/ar/es/movies/la-caba%C3%B1a-57174\"><div _ngcontent-qsw-c112=\"\" class=\"slide-title\">La cabaña</div><!-- --><div _ngcontent-qsw-c112=\"\" class=\"slide-detail\">SAM13 | 2017 | DRAMA</div><!-- --></a>]"
      ]
     },
     "execution_count": 207,
     "metadata": {},
     "output_type": "execute_result"
    }
   ],
   "source": [
    "detalles_series = series.find_all(\"a\", class_=\"detail-container\")\n",
    "detalles_series"
   ]
  },
  {
   "cell_type": "code",
   "execution_count": 216,
   "id": "cb0ed465",
   "metadata": {},
   "outputs": [],
   "source": [
    "all_series = list()"
   ]
  },
  {
   "cell_type": "code",
   "execution_count": 217,
   "id": "8f69652f",
   "metadata": {},
   "outputs": [],
   "source": [
    "for serie_detalle in detalles_series:\n",
    "    all_series.append(serie_detalle.text)\n",
    "    "
   ]
  },
  {
   "cell_type": "code",
   "execution_count": 218,
   "id": "e86de116",
   "metadata": {
    "collapsed": true,
    "jupyter": {
     "outputs_hidden": true
    },
    "tags": []
   },
   "outputs": [
    {
     "data": {
      "text/plain": [
       "['Castle RockSAM16 | 2 TEMPORADAS | DRAMA, FANTASÍA',\n",
       " 'The AttachéSAM16 | 1 TEMPORADA | DRAMA',\n",
       " 'The Night ManagerSAM13 | 1 TEMPORADA | CRIMEN, DRAMA',\n",
       " 'Gangs of LondonSAM16 | 1 TEMPORADA | ACCIÓN, CRIMEN',\n",
       " 'MotherFatherSonSAM16 | 1 TEMPORADA | DRAMA',\n",
       " 'Confronting a Serial KillerSAM16 | 1 TEMPORADA | DOCUMENTAL, DRAMA',\n",
       " 'The White PrincessSAM16 | 1 TEMPORADA | DRAMA, LITERARIA',\n",
       " 'Oscura seducciónSAM16 | 2011 | ROMÁNTICA',\n",
       " 'BlindspottingSAM16 | 1 TEMPORADA | DRAMA',\n",
       " 'PowerSAM16 | 6 TEMPORADAS | DRAMA',\n",
       " '12 HorasSAM13 | 2012 | DRAMA, THRILLER PSICOLÓGICO',\n",
       " 'Power Book II: GhostSAM16 | 2 TEMPORADAS | CRIMEN, DRAMA',\n",
       " 'The White QueenSAM16 | 1 TEMPORADA | DRAMA, LITERARIA',\n",
       " 'HightownSAM16 | 2 TEMPORADAS | CRIMEN, DRAMA',\n",
       " 'Lo que pasó reciénSAM16 | 2008 | COMEDIA, DRAMA',\n",
       " 'Power Book III: Raising KananSAM16 | 1 TEMPORADA | CRIMEN, DRAMA',\n",
       " 'HeelsSAM16 | 1 TEMPORADA | DRAMA',\n",
       " 'The BorgiasSAM16 | 3 TEMPORADAS | DRAMA',\n",
       " 'Sr. MercedesSAM16 | 3 TEMPORADAS | CRIMEN, SUSPENSO',\n",
       " 'Horizonte profundoSAM13 | 2016 | ACCIÓN, DRAMA',\n",
       " 'SweetbitterSAM16 | 2 TEMPORADAS | DRAMA, LITERARIA',\n",
       " 'John Wick 2: Un nuevo día para matarSAM16 | 2017 | ACCIÓN',\n",
       " 'Cartas a JulietaATP | 2010 | COMEDIA, DRAMA',\n",
       " 'Run the WorldSAM16 | 1 TEMPORADA | DRAMA',\n",
       " 'Más fuerte que el destinoSAM16 | 2017 | DRAMA',\n",
       " 'P-ValleySAM16 | 1 TEMPORADA | DRAMA',\n",
       " 'ReignSAM13 | 4 TEMPORADAS | DRAMA',\n",
       " 'Step UpSAM13 | 2 TEMPORADAS | DRAMA, MÚSICA',\n",
       " 'MalaYerbaSAM16 | 1 TEMPORADA | DRAMA',\n",
       " 'RecuérdameSAM16 | 2010 | DRAMA, ROMÁNTICA',\n",
       " 'El lado oscuro del deseoSAM16 | 2015 | MISTERIO/SUSPENSO',\n",
       " 'Dublin MurdersSAM16 | 1 TEMPORADA | CRIMEN, DRAMA',\n",
       " 'The Name of the RoseSAM16 | 1 TEMPORADA | DRAMA',\n",
       " 'Pánico en altamarSAM16 | 2006 | DE AVENTURAS, DRAMA',\n",
       " 'Los MiserablesSAM13 | 1 TEMPORADA | DRAMA',\n",
       " 'De Tyler Perry Tentación: Confesiones de una consejera matrimonialSAM16 | 2013 | DRAMA, ROMÁNTICA',\n",
       " 'Howards EndSAM13 | 1 TEMPORADA | DRAMA, LITERARIA',\n",
       " 'De Tyler Perry: ¿Por qué me casé también?SAM13 | 2010 | COMEDIA, DRAMA',\n",
       " 'BaptisteSAM16 | 2 TEMPORADAS | DRAMA',\n",
       " 'BMFSAM16 | 1 TEMPORADA | DRAMA',\n",
       " 'Penny DreadfulSAM16 | 3 TEMPORADAS | DRAMA',\n",
       " 'VidaSAM16 | 3 TEMPORADAS | COMEDIA, DRAMA',\n",
       " 'Dulce venganza 2SAM16 | 2013 | DE TERROR',\n",
       " 'Flesh And BoneSAM16 | 1 TEMPORADA | DANZA, DRAMA',\n",
       " 'Un paso adelanteSAM13 | 2006 | CRIMEN, DRAMA',\n",
       " 'Pasión inocenteSAM16 | 2014 | DRAMA, ROMÁNTICA',\n",
       " 'The RookSAM16 | 1 TEMPORADA | DRAMA, FANTASÍA',\n",
       " 'Crímenes ocultosSAM16 | 2015 | CRIMEN, DRAMA',\n",
       " \"No Man's LandSAM16 | 1 TEMPORADA | DRAMA, GUERRA\",\n",
       " 'La cabañaSAM13 | 2017 | DRAMA']"
      ]
     },
     "execution_count": 218,
     "metadata": {},
     "output_type": "execute_result"
    }
   ],
   "source": [
    "all_series"
   ]
  },
  {
   "cell_type": "code",
   "execution_count": 219,
   "id": "2a54be2f",
   "metadata": {},
   "outputs": [
    {
     "name": "stdout",
     "output_type": "stream",
     "text": [
      "                                                    0\n",
      "0   Castle RockSAM16 | 2 TEMPORADAS | DRAMA, FANTASÍA\n",
      "1              The AttachéSAM16 | 1 TEMPORADA | DRAMA\n",
      "2   The Night ManagerSAM13 | 1 TEMPORADA | CRIMEN,...\n",
      "3   Gangs of LondonSAM16 | 1 TEMPORADA | ACCIÓN, C...\n",
      "4          MotherFatherSonSAM16 | 1 TEMPORADA | DRAMA\n",
      "5   Confronting a Serial KillerSAM16 | 1 TEMPORADA...\n",
      "6   The White PrincessSAM16 | 1 TEMPORADA | DRAMA,...\n",
      "7            Oscura seducciónSAM16 | 2011 | ROMÁNTICA\n",
      "8            BlindspottingSAM16 | 1 TEMPORADA | DRAMA\n",
      "9                   PowerSAM16 | 6 TEMPORADAS | DRAMA\n",
      "10  12 HorasSAM13 | 2012 | DRAMA, THRILLER PSICOLÓ...\n",
      "11  Power Book II: GhostSAM16 | 2 TEMPORADAS | CRI...\n",
      "12  The White QueenSAM16 | 1 TEMPORADA | DRAMA, LI...\n",
      "13       HightownSAM16 | 2 TEMPORADAS | CRIMEN, DRAMA\n",
      "14    Lo que pasó reciénSAM16 | 2008 | COMEDIA, DRAMA\n",
      "15  Power Book III: Raising KananSAM16 | 1 TEMPORA...\n",
      "16                   HeelsSAM16 | 1 TEMPORADA | DRAMA\n",
      "17            The BorgiasSAM16 | 3 TEMPORADAS | DRAMA\n",
      "18  Sr. MercedesSAM16 | 3 TEMPORADAS | CRIMEN, SUS...\n",
      "19     Horizonte profundoSAM13 | 2016 | ACCIÓN, DRAMA\n",
      "20  SweetbitterSAM16 | 2 TEMPORADAS | DRAMA, LITER...\n",
      "21  John Wick 2: Un nuevo día para matarSAM16 | 20...\n",
      "22        Cartas a JulietaATP | 2010 | COMEDIA, DRAMA\n",
      "23           Run the WorldSAM16 | 1 TEMPORADA | DRAMA\n",
      "24      Más fuerte que el destinoSAM16 | 2017 | DRAMA\n",
      "25                P-ValleySAM16 | 1 TEMPORADA | DRAMA\n",
      "26                  ReignSAM13 | 4 TEMPORADAS | DRAMA\n",
      "27        Step UpSAM13 | 2 TEMPORADAS | DRAMA, MÚSICA\n",
      "28               MalaYerbaSAM16 | 1 TEMPORADA | DRAMA\n",
      "29          RecuérdameSAM16 | 2010 | DRAMA, ROMÁNTICA\n",
      "30  El lado oscuro del deseoSAM16 | 2015 | MISTERI...\n",
      "31  Dublin MurdersSAM16 | 1 TEMPORADA | CRIMEN, DRAMA\n",
      "32    The Name of the RoseSAM16 | 1 TEMPORADA | DRAMA\n",
      "33  Pánico en altamarSAM16 | 2006 | DE AVENTURAS, ...\n",
      "34          Los MiserablesSAM13 | 1 TEMPORADA | DRAMA\n",
      "35  De Tyler Perry Tentación: Confesiones de una c...\n",
      "36  Howards EndSAM13 | 1 TEMPORADA | DRAMA, LITERARIA\n",
      "37  De Tyler Perry: ¿Por qué me casé también?SAM13...\n",
      "38               BaptisteSAM16 | 2 TEMPORADAS | DRAMA\n",
      "39                     BMFSAM16 | 1 TEMPORADA | DRAMA\n",
      "40         Penny DreadfulSAM16 | 3 TEMPORADAS | DRAMA\n",
      "41          VidaSAM16 | 3 TEMPORADAS | COMEDIA, DRAMA\n",
      "42           Dulce venganza 2SAM16 | 2013 | DE TERROR\n",
      "43   Flesh And BoneSAM16 | 1 TEMPORADA | DANZA, DRAMA\n",
      "44       Un paso adelanteSAM13 | 2006 | CRIMEN, DRAMA\n",
      "45     Pasión inocenteSAM16 | 2014 | DRAMA, ROMÁNTICA\n",
      "46      The RookSAM16 | 1 TEMPORADA | DRAMA, FANTASÍA\n",
      "47       Crímenes ocultosSAM16 | 2015 | CRIMEN, DRAMA\n",
      "48   No Man's LandSAM16 | 1 TEMPORADA | DRAMA, GUERRA\n",
      "49                      La cabañaSAM13 | 2017 | DRAMA\n"
     ]
    }
   ],
   "source": [
    "data_series = pd.DataFrame(all_series)\n",
    "print(data_series)"
   ]
  },
  {
   "cell_type": "code",
   "execution_count": 220,
   "id": "287712f9",
   "metadata": {},
   "outputs": [],
   "source": [
    "data_series.to_csv(\"Series.csv\",index=False)"
   ]
  },
  {
   "cell_type": "code",
   "execution_count": 221,
   "id": "7cc3520c",
   "metadata": {},
   "outputs": [],
   "source": [
    "wd.quit()"
   ]
  },
  {
   "cell_type": "code",
   "execution_count": null,
   "id": "32c6877c",
   "metadata": {},
   "outputs": [],
   "source": []
  }
 ],
 "metadata": {
  "kernelspec": {
   "display_name": "Python 3",
   "language": "python",
   "name": "python3"
  },
  "language_info": {
   "codemirror_mode": {
    "name": "ipython",
    "version": 3
   },
   "file_extension": ".py",
   "mimetype": "text/x-python",
   "name": "python",
   "nbconvert_exporter": "python",
   "pygments_lexer": "ipython3",
   "version": "3.8.8"
  }
 },
 "nbformat": 4,
 "nbformat_minor": 5
}
